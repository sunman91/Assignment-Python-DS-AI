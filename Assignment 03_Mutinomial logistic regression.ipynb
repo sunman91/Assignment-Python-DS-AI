{
 "cells": [
  {
   "cell_type": "markdown",
   "metadata": {},
   "source": [
    "### === Task ===\n",
    "\n",
    "1. With the iris data given in class, implement train_test_split from scratch.\n",
    "\n",
    "2. Put everything into a class called LogisticRegression, this class should allow you choose any of the training methods you'd like including \"batch\", \"minibatch\" and \"sto\". However, if the input method is not one of the three, it should \"raise ValueError\".\n",
    "\n",
    "3. Calculate time taken to fit your models using different training methods.\n",
    "\n",
    "4. Perform a classification on the dataset using all 3 methods and also show what happens if your defined training method is not either \"batch\", \"minibatch\" or \"sto\". Make sure to plot the training losses.\n",
    "\n",
    "5. Simply, use classification_report from sklearn.metrics to evaluate your models.\n",
    "\n",
    "6. Discuss your results ie. training losses of the three methods and time taken to fit models.\n"
   ]
  },
  {
   "cell_type": "code",
   "execution_count": 20,
   "metadata": {},
   "outputs": [],
   "source": [
    "from sklearn import datasets\n",
    "from sklearn.preprocessing import StandardScaler\n",
    "from sklearn.model_selection import train_test_split\n",
    "import numpy as np\n",
    "import matplotlib.pyplot as plt\n",
    "import time\n",
    "\n",
    "#Step 1: Prepare data\n",
    "\n",
    "# import some data to play with\n",
    "iris = datasets.load_iris()"
   ]
  },
  {
   "cell_type": "code",
   "execution_count": 21,
   "metadata": {},
   "outputs": [],
   "source": [
    "X = iris.data[:, 2:]  # we only take the first two features.\n",
    "y = iris.target  #now our y is three classes thus require multinomial"
   ]
  },
  {
   "cell_type": "code",
   "execution_count": 22,
   "metadata": {},
   "outputs": [],
   "source": [
    "# feature scaling helps improve reach convergence faster\n",
    "scaler = StandardScaler()\n",
    "X = scaler.fit_transform(X)"
   ]
  },
  {
   "cell_type": "code",
   "execution_count": 23,
   "metadata": {},
   "outputs": [],
   "source": [
    "def Train_test_splitter(X,y,train_size = 0.7):\n",
    "    a = np.arange(X.shape[0])\n",
    "    np.random.shuffle(a)    \n",
    "    m = X.shape[0]\n",
    "    a_train = a[0:round(train_size*len(X))]\n",
    "    a_test = a[len(a_train):]    \n",
    "    X_train = X[a_train]\n",
    "    y_train = y[a_train]\n",
    "    X_test = X[a_test]    \n",
    "    y_test = y[a_test]\n",
    "    return X_train,X_test, y_train,y_test\n",
    "    "
   ]
  },
  {
   "cell_type": "code",
   "execution_count": 24,
   "metadata": {},
   "outputs": [
    {
     "data": {
      "text/plain": [
       "(105, 2)"
      ]
     },
     "execution_count": 24,
     "metadata": {},
     "output_type": "execute_result"
    }
   ],
   "source": [
    "X_train, X_test, y_train, y_test = Train_test_splitter(X, y, train_size=0.7)\n",
    "X_train.shape"
   ]
  },
  {
   "cell_type": "code",
   "execution_count": 25,
   "metadata": {},
   "outputs": [
    {
     "data": {
      "text/plain": [
       "(45, 2)"
      ]
     },
     "execution_count": 25,
     "metadata": {},
     "output_type": "execute_result"
    }
   ],
   "source": [
    "X_test.shape"
   ]
  },
  {
   "cell_type": "code",
   "execution_count": 26,
   "metadata": {},
   "outputs": [],
   "source": [
    "# add intercept to our X\n",
    "intercept = np.ones((X_train.shape[0], 1))\n",
    "X_train   = np.concatenate((intercept, X_train), axis=1)  #add intercept\n",
    "intercept = np.ones((X_test.shape[0], 1))\n",
    "X_test    = np.concatenate((intercept, X_test), axis=1)  #add intercept"
   ]
  },
  {
   "cell_type": "code",
   "execution_count": 27,
   "metadata": {},
   "outputs": [],
   "source": [
    "k = len(set(y))  # no. of class  (can also use np.unique)\n",
    "m = X_train.shape[0]  # no.of samples\n",
    "n = X_train.shape[1]  # no. of features\n",
    "y_train_encoded = np.zeros((m, k))\n",
    "for each_class in range(k):\n",
    "    cond = y_train==each_class\n",
    "    y_train_encoded[np.where(cond), each_class] = 1"
   ]
  },
  {
   "cell_type": "code",
   "execution_count": 28,
   "metadata": {},
   "outputs": [
    {
     "data": {
      "text/plain": [
       "(105, 3)"
      ]
     },
     "execution_count": 28,
     "metadata": {},
     "output_type": "execute_result"
    }
   ],
   "source": [
    "y_train_encoded.shape"
   ]
  },
  {
   "cell_type": "code",
   "execution_count": 83,
   "metadata": {},
   "outputs": [],
   "source": [
    "class LogisticReg:\n",
    "    def __init__(self, alpha=0.001, early_stopping = True, max_iter= 1000, \n",
    "            loss_old=10000, tol=1e-3, method=\"batch\",batch_size = 100):\n",
    "        \n",
    "        self.alpha = alpha\n",
    "        self.early_stopping = early_stopping\n",
    "        self.max_iter = max_iter\n",
    "        self.loss_old = 10000\n",
    "        self.tol = tol\n",
    "        self.method = method\n",
    "        self.batch_size = batch_size\n",
    "        \n",
    "    def gradient(self,X,y):\n",
    "        m = X.shape[0]\n",
    "        h = self.h_theta(X)\n",
    "        cost = - np.sum(y*np.log(h)) / m\n",
    "        self.error = h - y\n",
    "        grad = self.softmax_grad(X)\n",
    "        return cost, grad    \n",
    "    \n",
    "    def h_theta(self, X):\n",
    "        return self.softmax(X @ self.w)\n",
    "    \n",
    "    def softmax(self,x):\n",
    "        return np.exp(x) / np.sum(np.exp(x), axis=1, keepdims=True)\n",
    "    \n",
    "    def softmax_grad(self, X):\n",
    "        return  X.T @ self.error\n",
    "    \n",
    "    def predict(self, X_test):\n",
    "        return np.argmax(self.h_theta(X_test), axis=1)\n",
    "        \n",
    "    def fit(self,X,y):\n",
    "        n = X.shape[1]\n",
    "        k = y.shape[1]\n",
    "        self.w = np.random.rand(n, k)\n",
    "        l_rate =  self.alpha\n",
    "        self.costList = []\n",
    "        \n",
    "        for j in range(self.max_iter):\n",
    "            self.st_time = time.time()\n",
    "            \n",
    "            if self.method == 'batch':\n",
    "                \n",
    "                X_train = X\n",
    "                y_train = y\n",
    "                cost, grad =  self.gradient(X_train, y_train)\n",
    "                self.costList.append(cost)\n",
    "                if j % 500 == 0:\n",
    "                    print(f\"Cost at iteration {j}\", cost)\n",
    "                    \n",
    "                self.w = self.w - l_rate * grad\n",
    "            \n",
    "                \n",
    "            elif self.method == 'sto': #for stochastic method\n",
    "               \n",
    "                a = np.arange(X.shape[0])\n",
    "                np.random.shuffle(a)\n",
    "                for i in a:\n",
    "                    X_stoc = X[i,:].reshape(1,-1)\n",
    "                    y_stoc = y[i]                     \n",
    "                    cost, grad = self.gradient(X_stoc, y_stoc)\n",
    "                    self.costList.append(cost)\n",
    "                    if j % 500 == 0:\n",
    "                        print(f\"Cost at iteration {j}\", cost)\n",
    "                        \n",
    "                    self.w = self.w - l_rate * grad\n",
    "                \n",
    "                    \n",
    "            elif self.method == 'mini': #for stochastic method\n",
    "                n_batches = np.ceil(X.shape[0]/self.batch_size)\n",
    "                last_batch = m%self.batch_size\n",
    "                k = 0\n",
    "                for i in range(int(n_batches)):    \n",
    "                    if i != range(int(n_batches))[-1] : \n",
    "                        X_mini = X[k:k+self.batch_size]\n",
    "                        y_mini = y[k:k+self.batch_size]\n",
    "                        \n",
    "                        cost, grad = self.gradient(X_mini, y_mini) \n",
    "                        self.costList.append(cost)\n",
    "\n",
    "                        if j % 500 == 0:\n",
    "                            print(f\"Cost at iteration {j}\", cost)\n",
    "                            \n",
    "                        self.w = self.w - l_rate * grad\n",
    "                    \n",
    "                    else:\n",
    "                        X_mini = X[k:k+last_batch]\n",
    "                        y_mini = y[k:k+last_batch]\n",
    "                      \n",
    "                        cost, grad = self.gradient(X_mini, y_mini)\n",
    "                        if j % 500 == 0:\n",
    "                            print(f\"Cost at iteration {j}\", cost)\n",
    "                            \n",
    "                        self.w = self.w - l_rate * grad\n",
    "                        self.costList.append(cost)\n",
    "            else:\n",
    "                raise ValueError('Please type method as \"batch\", \"mini\" or \"sto\".')\n",
    "        self.t = {time.time() - self.st_time}\n",
    "        print(f\"time taken: {time.time() - self.st_time}\")\n",
    "        \n",
    "    def plot(self):\n",
    "        plt.plot(np.arange(len(self.costList)) , self.costList, label = \"Train Losses\")\n",
    "        plt.title(\"Losses\")\n",
    "        plt.xlabel(\"epoch\")\n",
    "        plt.ylabel(\"losses\")\n",
    "        plt.legend()\n",
    "        \n",
    "    def time(self):\n",
    "        print(f\"time taken: {self.t}\")\n"
   ]
  },
  {
   "cell_type": "code",
   "execution_count": 84,
   "metadata": {},
   "outputs": [
    {
     "name": "stdout",
     "output_type": "stream",
     "text": [
      "Cost at iteration 0 1.5358934839297007\n",
      "Cost at iteration 500 0.17084130964484698\n",
      "Cost at iteration 1000 0.12092650760210655\n",
      "Cost at iteration 1500 0.10063209559774496\n",
      "Cost at iteration 2000 0.08923419737037191\n",
      "Cost at iteration 2500 0.08179917434451536\n",
      "Cost at iteration 3000 0.0765098146054972\n",
      "Cost at iteration 3500 0.07252770061301382\n",
      "Cost at iteration 4000 0.0694078040162545\n",
      "Cost at iteration 4500 0.0668900212629117\n",
      "Cost at iteration 5000 0.06481122782003658\n",
      "Cost at iteration 5500 0.06306345296049319\n",
      "Cost at iteration 6000 0.06157212139919574\n",
      "Cost at iteration 6500 0.060283914387582946\n",
      "Cost at iteration 7000 0.059159606465647385\n",
      "Cost at iteration 7500 0.05816963889428432\n",
      "Cost at iteration 8000 0.057291276608574124\n",
      "Cost at iteration 8500 0.05650672134996677\n",
      "Cost at iteration 9000 0.05580182355315598\n",
      "Cost at iteration 9500 0.055165181132733276\n",
      "time taken: 5.91278076171875e-05\n"
     ]
    },
    {
     "data": {
      "image/png": "[encoded data removed]",
      "text/plain": [
       "<Figure size 432x288 with 1 Axes>"
      ]
     },
     "metadata": {
      "needs_background": "light"
     },
     "output_type": "display_data"
    }
   ],
   "source": [
    "model = LogisticReg(max_iter= 10000, method = 'batch')\n",
    "model.fit(X_train,y_train_encoded)\n",
    "model.plot()"
   ]
  },
  {
   "cell_type": "code",
   "execution_count": 85,
   "metadata": {},
   "outputs": [
    {
     "name": "stdout",
     "output_type": "stream",
     "text": [
      "Report:                precision    recall  f1-score   support\n",
      "\n",
      "           0       1.00      1.00      1.00        18\n",
      "           1       0.88      0.88      0.88        16\n",
      "           2       0.82      0.82      0.82        11\n",
      "\n",
      "    accuracy                           0.91        45\n",
      "   macro avg       0.90      0.90      0.90        45\n",
      "weighted avg       0.91      0.91      0.91        45\n",
      "\n"
     ]
    }
   ],
   "source": [
    "from sklearn.metrics import classification_report\n",
    "yhat = model.predict(X_test)\n",
    "print(\"Report: \", classification_report(yhat, y_test))"
   ]
  },
  {
   "cell_type": "code",
   "execution_count": 86,
   "metadata": {},
   "outputs": [
    {
     "name": "stdout",
     "output_type": "stream",
     "text": [
      "time taken: {5.2928924560546875e-05}\n"
     ]
    }
   ],
   "source": [
    "model.time()"
   ]
  },
  {
   "cell_type": "code",
   "execution_count": 87,
   "metadata": {},
   "outputs": [
    {
     "name": "stdout",
     "output_type": "stream",
     "text": [
      "Cost at iteration 0 1.1620934339657822\n",
      "Cost at iteration 0 0.6879376443723317\n",
      "Cost at iteration 0 1.261158039591305\n",
      "Cost at iteration 0 0.688893591263159\n",
      "Cost at iteration 0 0.6957960980256688\n",
      "Cost at iteration 0 0.6919967240865557\n",
      "Cost at iteration 0 1.1443910621502227\n",
      "Cost at iteration 0 1.275903271719302\n",
      "Cost at iteration 0 0.6881958379079629\n",
      "Cost at iteration 0 0.6986759121753084\n",
      "Cost at iteration 0 1.241023538563759\n",
      "Cost at iteration 0 0.7107006940729373\n",
      "Cost at iteration 0 0.7064698469710675\n",
      "Cost at iteration 0 0.6952120058458819\n",
      "Cost at iteration 0 0.7019834994870894\n",
      "Cost at iteration 0 1.2136788382064427\n",
      "Cost at iteration 0 1.08029764645137\n",
      "Cost at iteration 0 1.0844439741265932\n",
      "Cost at iteration 0 1.127361795178285\n",
      "Cost at iteration 0 0.7062414818742186\n",
      "Cost at iteration 0 1.2551230768676405\n",
      "Cost at iteration 0 1.1844656911667997\n",
      "Cost at iteration 0 1.0812540924404364\n",
      "Cost at iteration 0 1.0685719174817496\n",
      "Cost at iteration 0 1.110147759058992\n",
      "Cost at iteration 0 1.0194577947826924\n",
      "Cost at iteration 0 1.066080240866573\n",
      "Cost at iteration 0 1.0641649745683595\n",
      "Cost at iteration 0 0.7100957299279573\n",
      "Cost at iteration 0 0.7118132022832814\n",
      "Cost at iteration 0 1.1494484492292596\n",
      "Cost at iteration 0 1.2020895945084689\n",
      "Cost at iteration 0 1.085171446074876\n",
      "Cost at iteration 0 1.0671333853910856\n",
      "Cost at iteration 0 1.0600884847833156\n",
      "Cost at iteration 0 1.1318996483989943\n",
      "Cost at iteration 0 1.0814463875255025\n",
      "Cost at iteration 0 1.066057255075218\n",
      "Cost at iteration 0 1.1337987651314518\n",
      "Cost at iteration 0 0.7225750387077533\n",
      "Cost at iteration 0 1.0728602254141613\n",
      "Cost at iteration 0 0.9618718017779848\n",
      "Cost at iteration 0 1.0506570588570294\n",
      "Cost at iteration 0 0.7191208390375226\n",
      "Cost at iteration 0 1.0596735830342219\n",
      "Cost at iteration 0 1.0796830143757985\n",
      "Cost at iteration 0 1.0784366763234945\n",
      "Cost at iteration 0 0.7175160838771875\n",
      "Cost at iteration 0 0.7085074474200027\n",
      "Cost at iteration 0 1.041554835012576\n",
      "Cost at iteration 0 1.2150584444552093\n",
      "Cost at iteration 0 1.0508555647321216\n",
      "Cost at iteration 0 0.9868425825235062\n",
      "Cost at iteration 0 1.0419175340895703\n",
      "Cost at iteration 0 1.0417453934468417\n",
      "Cost at iteration 0 1.0137450051550652\n",
      "Cost at iteration 0 0.7066399636233373\n",
      "Cost at iteration 0 1.068655279345436\n",
      "Cost at iteration 0 0.71783279534727\n",
      "Cost at iteration 0 0.7133719243093622\n",
      "Cost at iteration 0 0.9850849868882968\n",
      "Cost at iteration 0 1.0485328966098348\n",
      "Cost at iteration 0 1.1108996836733513\n",
      "Cost at iteration 0 0.7233929819545355\n",
      "Cost at iteration 0 1.0975012996481963\n",
      "Cost at iteration 0 1.1398775434461945\n",
      "Cost at iteration 0 0.7090828943768438\n",
      "Cost at iteration 0 1.018006425488949\n",
      "Cost at iteration 0 0.7044920617301973\n",
      "Cost at iteration 0 1.0029112263494742\n",
      "Cost at iteration 0 1.02917561979211\n",
      "Cost at iteration 0 1.1078792604660002\n",
      "Cost at iteration 0 0.720968776966985\n",
      "Cost at iteration 0 0.7042746587001087\n",
      "Cost at iteration 0 0.7152155659365863\n",
      "Cost at iteration 0 1.0100024338482902\n",
      "Cost at iteration 0 1.0312238103927698\n",
      "Cost at iteration 0 1.0402488186359926\n",
      "Cost at iteration 0 1.1883039243692461\n",
      "Cost at iteration 0 1.1854836542915455\n",
      "Cost at iteration 0 0.7020011493056529\n",
      "Cost at iteration 0 0.7152872184469019\n",
      "Cost at iteration 0 1.0040742758144308\n",
      "Cost at iteration 0 1.0669920581854133\n",
      "Cost at iteration 0 1.0853823877133433\n",
      "Cost at iteration 0 1.1822576316252074\n",
      "Cost at iteration 0 1.0191908409611137\n",
      "Cost at iteration 0 1.0293969320532357\n",
      "Cost at iteration 0 1.1965300662655238\n",
      "Cost at iteration 0 1.1428619641984405\n",
      "Cost at iteration 0 0.9704961615714235\n",
      "Cost at iteration 0 1.0569346413240415\n",
      "Cost at iteration 0 1.1750267619385772\n",
      "Cost at iteration 0 1.0695441516833255\n",
      "Cost at iteration 0 0.7074273186172099\n",
      "Cost at iteration 0 0.7101056611589207\n",
      "Cost at iteration 0 1.0038773820061357\n",
      "Cost at iteration 0 0.7086358770138282\n",
      "Cost at iteration 0 0.7023988909873645\n",
      "Cost at iteration 0 1.2806269137347632\n",
      "Cost at iteration 0 0.7176225101279989\n",
      "Cost at iteration 0 0.7306230432355124\n",
      "Cost at iteration 0 0.8823174239431723\n",
      "Cost at iteration 0 0.9741971565648628\n",
      "Cost at iteration 0 1.012204941082388\n",
      "time taken: 0.003657817840576172\n"
     ]
    },
    {
     "data": {
      "image/png": "[encoded data removed]",
      "text/plain": [
       "<Figure size 432x288 with 1 Axes>"
      ]
     },
     "metadata": {
      "needs_background": "light"
     },
     "output_type": "display_data"
    }
   ],
   "source": [
    "model2 = LogisticReg(max_iter= 100, method = 'sto') #here iteration is true epoch\n",
    "model2.fit(X_train,y_train_encoded)\n",
    "model2.plot()"
   ]
  },
  {
   "cell_type": "code",
   "execution_count": 88,
   "metadata": {},
   "outputs": [
    {
     "name": "stdout",
     "output_type": "stream",
     "text": [
      "Report:                precision    recall  f1-score   support\n",
      "\n",
      "           0       1.00      1.00      1.00        18\n",
      "           1       0.88      1.00      0.93        14\n",
      "           2       1.00      0.85      0.92        13\n",
      "\n",
      "    accuracy                           0.96        45\n",
      "   macro avg       0.96      0.95      0.95        45\n",
      "weighted avg       0.96      0.96      0.96        45\n",
      "\n"
     ]
    }
   ],
   "source": [
    "yhat = model2.predict(X_test)\n",
    "print(\"Report: \", classification_report(yhat, y_test))"
   ]
  },
  {
   "cell_type": "code",
   "execution_count": 96,
   "metadata": {},
   "outputs": [
    {
     "name": "stdout",
     "output_type": "stream",
     "text": [
      "Cost at iteration 0 1.231869409933929\n",
      "Cost at iteration 0 1.068101970491283\n",
      "Cost at iteration 500 0.169781467698591\n",
      "Cost at iteration 500 0.10487094087297735\n",
      "Cost at iteration 1000 0.12008062545124176\n",
      "Cost at iteration 1000 0.07857015532912615\n",
      "Cost at iteration 1500 0.10000946082310463\n",
      "Cost at iteration 1500 0.06652430810067467\n",
      "Cost at iteration 2000 0.0887760441880539\n",
      "Cost at iteration 2000 0.05912461716235279\n",
      "Cost at iteration 2500 0.08146362608570591\n",
      "Cost at iteration 2500 0.053932381535059956\n",
      "Cost at iteration 3000 0.07626867466620818\n",
      "Cost at iteration 3000 0.05000454954032241\n",
      "Cost at iteration 3500 0.07236144179907548\n",
      "Cost at iteration 3500 0.04688618488816005\n",
      "Cost at iteration 4000 0.06930243989226677\n",
      "Cost at iteration 4000 0.04432564639374238\n",
      "Cost at iteration 4500 0.06683523598354746\n",
      "Cost at iteration 4500 0.04217017328126055\n",
      "time taken: 9.918212890625e-05\n"
     ]
    },
    {
     "data": {
      "image/png": "[encoded data removed]",
      "text/plain": [
       "<Figure size 432x288 with 1 Axes>"
      ]
     },
     "metadata": {
      "needs_background": "light"
     },
     "output_type": "display_data"
    }
   ],
   "source": [
    "model3 = LogisticReg(max_iter= 5000, method = 'mini') #here iteration is true epoch\n",
    "model3.fit(X_train,y_train_encoded)\n",
    "model3.plot()"
   ]
  },
  {
   "cell_type": "code",
   "execution_count": 97,
   "metadata": {},
   "outputs": [
    {
     "name": "stdout",
     "output_type": "stream",
     "text": [
      "Report:                precision    recall  f1-score   support\n",
      "\n",
      "           0       1.00      1.00      1.00        18\n",
      "           1       0.88      0.88      0.88        16\n",
      "           2       0.82      0.82      0.82        11\n",
      "\n",
      "    accuracy                           0.91        45\n",
      "   macro avg       0.90      0.90      0.90        45\n",
      "weighted avg       0.91      0.91      0.91        45\n",
      "\n"
     ]
    }
   ],
   "source": [
    "yhat = model3.predict(X_test)\n",
    "print(\"Report: \", classification_report(yhat, y_test))"
   ]
  },
  {
   "cell_type": "code",
   "execution_count": 91,
   "metadata": {},
   "outputs": [
    {
     "ename": "ValueError",
     "evalue": "Please type method as \"batch\", \"mini\" or \"sto\".",
     "output_type": "error",
     "traceback": [
      "\u001b[0;31m---------------------------------------------------------------------------\u001b[0m",
      "\u001b[0;31mValueError\u001b[0m                                Traceback (most recent call last)",
      "\u001b[0;32m/tmp/ipykernel_297/1469000587.py\u001b[0m in \u001b[0;36m<module>\u001b[0;34m\u001b[0m\n\u001b[1;32m      1\u001b[0m \u001b[0mmodel3\u001b[0m \u001b[0;34m=\u001b[0m \u001b[0mLogisticReg\u001b[0m\u001b[0;34m(\u001b[0m\u001b[0mmax_iter\u001b[0m\u001b[0;34m=\u001b[0m \u001b[0;36m2000\u001b[0m\u001b[0;34m,\u001b[0m \u001b[0mmethod\u001b[0m \u001b[0;34m=\u001b[0m \u001b[0;34m'gitgud'\u001b[0m\u001b[0;34m)\u001b[0m \u001b[0;31m#here iteration is true epoch\u001b[0m\u001b[0;34m\u001b[0m\u001b[0;34m\u001b[0m\u001b[0m\n\u001b[0;32m----> 2\u001b[0;31m \u001b[0mmodel3\u001b[0m\u001b[0;34m.\u001b[0m\u001b[0mfit\u001b[0m\u001b[0;34m(\u001b[0m\u001b[0mX_train\u001b[0m\u001b[0;34m,\u001b[0m\u001b[0my_train_encoded\u001b[0m\u001b[0;34m)\u001b[0m\u001b[0;34m\u001b[0m\u001b[0;34m\u001b[0m\u001b[0m\n\u001b[0m\u001b[1;32m      3\u001b[0m \u001b[0mmodel3\u001b[0m\u001b[0;34m.\u001b[0m\u001b[0mplot\u001b[0m\u001b[0;34m(\u001b[0m\u001b[0;34m)\u001b[0m\u001b[0;34m\u001b[0m\u001b[0;34m\u001b[0m\u001b[0m\n",
      "\u001b[0;32m/tmp/ipykernel_297/363836576.py\u001b[0m in \u001b[0;36mfit\u001b[0;34m(self, X, y)\u001b[0m\n\u001b[1;32m     96\u001b[0m                         \u001b[0mself\u001b[0m\u001b[0;34m.\u001b[0m\u001b[0mcostList\u001b[0m\u001b[0;34m.\u001b[0m\u001b[0mappend\u001b[0m\u001b[0;34m(\u001b[0m\u001b[0mcost\u001b[0m\u001b[0;34m)\u001b[0m\u001b[0;34m\u001b[0m\u001b[0;34m\u001b[0m\u001b[0m\n\u001b[1;32m     97\u001b[0m             \u001b[0;32melse\u001b[0m\u001b[0;34m:\u001b[0m\u001b[0;34m\u001b[0m\u001b[0;34m\u001b[0m\u001b[0m\n\u001b[0;32m---> 98\u001b[0;31m                 \u001b[0;32mraise\u001b[0m \u001b[0mValueError\u001b[0m\u001b[0;34m(\u001b[0m\u001b[0;34m'Please type method as \"batch\", \"mini\" or \"sto\".'\u001b[0m\u001b[0;34m)\u001b[0m\u001b[0;34m\u001b[0m\u001b[0;34m\u001b[0m\u001b[0m\n\u001b[0m\u001b[1;32m     99\u001b[0m         \u001b[0mself\u001b[0m\u001b[0;34m.\u001b[0m\u001b[0mt\u001b[0m \u001b[0;34m=\u001b[0m \u001b[0;34m{\u001b[0m\u001b[0mtime\u001b[0m\u001b[0;34m.\u001b[0m\u001b[0mtime\u001b[0m\u001b[0;34m(\u001b[0m\u001b[0;34m)\u001b[0m \u001b[0;34m-\u001b[0m \u001b[0mself\u001b[0m\u001b[0;34m.\u001b[0m\u001b[0mst_time\u001b[0m\u001b[0;34m}\u001b[0m\u001b[0;34m\u001b[0m\u001b[0;34m\u001b[0m\u001b[0m\n\u001b[1;32m    100\u001b[0m         \u001b[0mprint\u001b[0m\u001b[0;34m(\u001b[0m\u001b[0;34mf\"time taken: {time.time() - self.st_time}\"\u001b[0m\u001b[0;34m)\u001b[0m\u001b[0;34m\u001b[0m\u001b[0;34m\u001b[0m\u001b[0m\n",
      "\u001b[0;31mValueError\u001b[0m: Please type method as \"batch\", \"mini\" or \"sto\"."
     ]
    }
   ],
   "source": [
    "model4 = LogisticReg(max_iter= 2000, method = 'gitgud') #here iteration is true epoch\n",
    "model4.fit(X_train,y_train_encoded)\n",
    "model4.plot()"
   ]
  },
  {
   "cell_type": "code",
   "execution_count": 99,
   "metadata": {},
   "outputs": [
    {
     "name": "stdout",
     "output_type": "stream",
     "text": [
      "====== for batch ====\n",
      "time taken: {5.2928924560546875e-05}\n"
     ]
    },
    {
     "data": {
      "image/png": "[encoded data removed]",
      "text/plain": [
       "<Figure size 432x288 with 1 Axes>"
      ]
     },
     "metadata": {
      "needs_background": "light"
     },
     "output_type": "display_data"
    }
   ],
   "source": [
    "#The most stable loss with a smooth curveis of batch gradient descent as it looks at all of the data in one go.\n",
    "#the loss elbows at around 1000 epochs. So any more than than doesn't yeild much better results\n",
    "#it\n",
    "print(\"====== for batch ====\")\n",
    "model.plot()\n",
    "model.time()\n"
   ]
  },
  {
   "cell_type": "code",
   "execution_count": 100,
   "metadata": {},
   "outputs": [
    {
     "name": "stdout",
     "output_type": "stream",
     "text": [
      "====== for stochastic ====\n",
      "time taken: {0.00365447998046875}\n"
     ]
    },
    {
     "data": {
      "image/png": "[encoded data removed]",
      "text/plain": [
       "<Figure size 432x288 with 1 Axes>"
      ]
     },
     "metadata": {
      "needs_background": "light"
     },
     "output_type": "display_data"
    }
   ],
   "source": [
    "# Stochastic GD has the wildest curve as it only looks at one data at a time. \n",
    "#it is less computationaly heavy but highly unstable\n",
    "# Although the overall loss is decreasing it oscillates back and forth too much\n",
    "print(\"====== for stochastic ====\")\n",
    "model2.plot()\n",
    "model2.time()"
   ]
  },
  {
   "cell_type": "code",
   "execution_count": 101,
   "metadata": {},
   "outputs": [
    {
     "name": "stdout",
     "output_type": "stream",
     "text": [
      "====== for mini batch ====\n",
      "time taken: {9.72747802734375e-05}\n"
     ]
    },
    {
     "data": {
      "image/png": "[encoded data removed]",
      "text/plain": [
       "<Figure size 432x288 with 1 Axes>"
      ]
     },
     "metadata": {
      "needs_background": "light"
     },
     "output_type": "display_data"
    }
   ],
   "source": [
    "# Mini batch GD is the middle ground which takes in a small batch but not the entire batch\n",
    "# Curve is mildy stable \n",
    "# It is less averagely computation heavy and stable\n",
    "# Although the overall loss is decreasing it oscillates back and forth too much\n",
    "print(\"====== for mini batch ====\")\n",
    "model3.plot()\n",
    "model3.time()"
   ]
  },
  {
   "cell_type": "code",
   "execution_count": null,
   "metadata": {},
   "outputs": [],
   "source": []
  }
 ],
 "metadata": {
  "kernelspec": {
   "display_name": "Python 3 (ipykernel)",
   "language": "python",
   "name": "python3"
  },
  "language_info": {
   "codemirror_mode": {
    "name": "ipython",
    "version": 3
   },
   "file_extension": ".py",
   "mimetype": "text/x-python",
   "name": "python",
   "nbconvert_exporter": "python",
   "pygments_lexer": "ipython3",
   "version": "3.8.3"
  }
 },
 "nbformat": 4,
 "nbformat_minor": 4
}
